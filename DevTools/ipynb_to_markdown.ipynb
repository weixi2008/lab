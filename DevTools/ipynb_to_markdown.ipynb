{
 "cells": [
  {
   "cell_type": "code",
   "execution_count": 5,
   "metadata": {},
   "outputs": [],
   "source": [
    "# _*_ coding: utf-8 _*_\n",
    "'''\n",
    "递归当前目录及子目录中的ipynb，转为markdown\n",
    "忽略以下目录：\n",
    ".git: git repo目录\n",
    ".ipynb_checkpoints: 临时存储目录\n",
    "综上，忽略以.开头的目录\n",
    "'''\n",
    "import os\n",
    "\n",
    "def path_should_ignore(path):\n",
    "    head, tail = os.path.split(path)\n",
    "    if tail.startswith('.'):\n",
    "        return True\n",
    "    else:\n",
    "        return False\n",
    "    \n",
    "def list_ext_files(dir_path, ext):\n",
    "    result_files = []\n",
    "    for root, dirs, files in os.walk(dir_path):\n",
    "        if path_should_ignore(root):\n",
    "            continue\n",
    "        for file in files:\n",
    "            if file.endswith(ext):\n",
    "                result_files.append(os.path.join(root, file))\n",
    "    return result_files\n",
    "\n",
    "# 注意：下面的注释语句没有输出， 虽然系统shell能够解析~/mygit, 但函数解析不了。\n",
    "# print list_ext_files(\"~/mygit\", \".ipynb\")\n",
    "# for Mac\n",
    "# files = list_ext_files(\"/Users/weixi/mygit\", \".ipynb\")\n",
    "# for Windows\n",
    "files = list_ext_files('D:/MyGit/lab/DevTools', '.ipynb')"
   ]
  },
  {
   "cell_type": "code",
   "execution_count": 6,
   "metadata": {},
   "outputs": [],
   "source": [
    "for file in files:\n",
    "    command = \"jupyter nbconvert --to markdown {}\".format(file);\n",
    "    os.system(command)"
   ]
  }
 ],
 "metadata": {
  "kernelspec": {
   "display_name": "Python 3",
   "language": "python",
   "name": "python3"
  },
  "language_info": {
   "codemirror_mode": {
    "name": "ipython",
    "version": 3
   },
   "file_extension": ".py",
   "mimetype": "text/x-python",
   "name": "python",
   "nbconvert_exporter": "python",
   "pygments_lexer": "ipython3",
   "version": "3.6.1"
  }
 },
 "nbformat": 4,
 "nbformat_minor": 2
}
