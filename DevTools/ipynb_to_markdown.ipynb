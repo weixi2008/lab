{
 "cells": [
  {
   "cell_type": "code",
   "execution_count": 33,
   "metadata": {
    "collapsed": false
   },
   "outputs": [
    {
     "name": "stdout",
     "output_type": "stream",
     "text": [
      "/Users/weixi/mygit/lab/DevTools/Conda简明教程.ipynb\n",
      "/Users/weixi/mygit/lab/DevTools/ipynb_to_markdown.ipynb\n",
      "/Users/weixi/mygit/lab/DevTools/test.ipynb\n"
     ]
    }
   ],
   "source": [
    "# _*_ coding: utf-8 _*_\n",
    "'''\n",
    "递归当前目录及子目录中的ipynb，转为markdown\n",
    "忽略以下目录：\n",
    ".git: git repo目录\n",
    ".ipynb_checkpoints: 临时存储目录\n",
    "综上，忽略以.开头的目录\n",
    "'''\n",
    "import os\n",
    "\n",
    "def path_should_ignore(path):\n",
    "    head, tail = os.path.split(path)\n",
    "    if tail.startswith('.'):\n",
    "        return True\n",
    "    else:\n",
    "        return False\n",
    "    \n",
    "def list_ext_files(dir_path, ext):\n",
    "    result_files = []\n",
    "    for root, dirs, files in os.walk(dir_path):\n",
    "        if path_should_ignore(root):\n",
    "            continue\n",
    "        for file in files:\n",
    "            if file.endswith(ext):\n",
    "                result_files.append(os.path.join(root, file))\n",
    "    return result_files\n",
    "\n",
    "# 注意：下面的注释语句没有输出， 虽然系统shell能够解析~/mygit, 但函数解析不了。\n",
    "# print list_ext_files(\"~/mygit\", \".ipynb\")\n",
    "files = list_ext_files(\"/Users/weixi/mygit\", \".ipynb\")                                                            "
   ]
  },
  {
   "cell_type": "code",
   "execution_count": 36,
   "metadata": {
    "collapsed": false
   },
   "outputs": [
    {
     "name": "stdout",
     "output_type": "stream",
     "text": [
      "jupyter nbconvert --to markdown /Users/weixi/mygit/lab/DevTools/Conda简明教程.ipynb\n",
      "jupyter nbconvert --to markdown /Users/weixi/mygit/lab/DevTools/ipynb_to_markdown.ipynb\n",
      "jupyter nbconvert --to markdown /Users/weixi/mygit/lab/DevTools/test.ipynb\n"
     ]
    }
   ],
   "source": [
    "for file in files:\n",
    "    command = \"jupyter nbconvert --to markdown {}\".format(file);\n",
    "    os.system(command)"
   ]
  }
 ],
 "metadata": {
  "kernelspec": {
   "display_name": "Python 2",
   "language": "python",
   "name": "python2"
  },
  "language_info": {
   "codemirror_mode": {
    "name": "ipython",
    "version": 2
   },
   "file_extension": ".py",
   "mimetype": "text/x-python",
   "name": "python",
   "nbconvert_exporter": "python",
   "pygments_lexer": "ipython2",
   "version": "2.7.13"
  }
 },
 "nbformat": 4,
 "nbformat_minor": 2
}
