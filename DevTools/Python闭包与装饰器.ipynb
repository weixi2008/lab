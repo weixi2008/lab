{
 "cells": [
  {
   "cell_type": "code",
   "execution_count": 5,
   "metadata": {
    "collapsed": true
   },
   "outputs": [
    {
     "name": "stdout",
     "output_type": "stream",
     "text": [
      "Called:\n",
      "        function: <function hello at 0x109239b18>\n",
      "        args: (('World!',), {})\n",
      "        kargs: {}\n",
      "time delta: 0.00108003616333\n"
     ]
    },
    {
     "ename": "TypeError",
     "evalue": "hello() takes exactly 1 argument (2 given)",
     "output_type": "error",
     "traceback": [
      "\u001b[0;31m---------------------------------------------------------------------------\u001b[0m",
      "\u001b[0;31mTypeError\u001b[0m                                 Traceback (most recent call last)",
      "\u001b[0;32m<ipython-input-5-87691b3c8a9d>\u001b[0m in \u001b[0;36m<module>\u001b[0;34m()\u001b[0m\n\u001b[1;32m     33\u001b[0m     \u001b[0;32mprint\u001b[0m \u001b[0;34m\"Hello\"\u001b[0m\u001b[0;34m,\u001b[0m \u001b[0mname\u001b[0m\u001b[0;34m\u001b[0m\u001b[0m\n\u001b[1;32m     34\u001b[0m \u001b[0;34m\u001b[0m\u001b[0m\n\u001b[0;32m---> 35\u001b[0;31m \u001b[0mhello\u001b[0m\u001b[0;34m(\u001b[0m\u001b[0;34m\"World!\"\u001b[0m\u001b[0;34m)\u001b[0m\u001b[0;34m\u001b[0m\u001b[0m\n\u001b[0m",
      "\u001b[0;32m<ipython-input-5-87691b3c8a9d>\u001b[0m in \u001b[0;36mwrapper\u001b[0;34m(*args, **kargs)\u001b[0m\n\u001b[1;32m     18\u001b[0m             \u001b[0mnow\u001b[0m \u001b[0;34m=\u001b[0m \u001b[0mtime\u001b[0m\u001b[0;34m(\u001b[0m\u001b[0;34m)\u001b[0m\u001b[0;34m\u001b[0m\u001b[0m\n\u001b[1;32m     19\u001b[0m             \u001b[0;32mtry\u001b[0m\u001b[0;34m:\u001b[0m\u001b[0;34m\u001b[0m\u001b[0m\n\u001b[0;32m---> 20\u001b[0;31m                 \u001b[0;32mreturn\u001b[0m \u001b[0mf\u001b[0m\u001b[0;34m(\u001b[0m\u001b[0margs\u001b[0m\u001b[0;34m,\u001b[0m \u001b[0mkargs\u001b[0m\u001b[0;34m)\u001b[0m\u001b[0;34m\u001b[0m\u001b[0m\n\u001b[0m\u001b[1;32m     21\u001b[0m             \u001b[0;32mfinally\u001b[0m\u001b[0;34m:\u001b[0m\u001b[0;34m\u001b[0m\u001b[0m\n\u001b[1;32m     22\u001b[0m                 \u001b[0mlog\u001b[0m\u001b[0;34m(\u001b[0m\u001b[0mf\u001b[0m\u001b[0;34m,\u001b[0m \u001b[0margs\u001b[0m\u001b[0;34m,\u001b[0m \u001b[0mkargs\u001b[0m\u001b[0;34m)\u001b[0m\u001b[0;34m\u001b[0m\u001b[0m\n",
      "\u001b[0;31mTypeError\u001b[0m: hello() takes exactly 1 argument (2 given)"
     ]
    }
   ],
   "source": [
    "from time import time\n",
    "\n",
    "def logged(when):\n",
    "    def log(f, *args, **kargs):\n",
    "        print '''Called:\n",
    "        function: %s\n",
    "        args: %r\n",
    "        kargs: %r''' % (f, args, kargs)\n",
    "        \n",
    "    def pre_logged(f):\n",
    "        def wrapper(*args, **kargs):\n",
    "            log(f, args, kargs)\n",
    "            return f(args, kargs)\n",
    "        return wrapper\n",
    "    \n",
    "    def post_logged(f):\n",
    "        def wrapper(*args, **kargs):\n",
    "            now = time()\n",
    "            try:\n",
    "                return f(args, kargs)\n",
    "            finally:\n",
    "                log(f, args, kargs)\n",
    "                print \"time delta: %s\" % (time() - now)\n",
    "        return wrapper\n",
    "    \n",
    "    try:\n",
    "        return {\"pre\": pre_logged, \"post\": post_logged}[when]\n",
    "    except KeyError, e:\n",
    "        raise ValueError(e), 'must be \"pre\" or \"post\"'\n",
    "\n",
    "@logged(\"post\")\n",
    "def hello(name):\n",
    "    print \"Hello\", name\n",
    "\n",
    "hello(\"World!\")"
   ]
  }
 ],
 "metadata": {
  "kernelspec": {
   "display_name": "Python 2",
   "language": "python",
   "name": "python2"
  },
  "language_info": {
   "codemirror_mode": {
    "name": "ipython",
    "version": 2
   },
   "file_extension": ".py",
   "mimetype": "text/x-python",
   "name": "python",
   "nbconvert_exporter": "python",
   "pygments_lexer": "ipython2",
   "version": "2.7.13"
  }
 },
 "nbformat": 4,
 "nbformat_minor": 2
}
