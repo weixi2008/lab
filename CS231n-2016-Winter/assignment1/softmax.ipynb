{
 "cells": [
  {
   "cell_type": "markdown",
   "metadata": {},
   "source": [
    "# Softmax exercise\n",
    "\n",
    "*Complete and hand in this completed worksheet (including its outputs and any supporting code outside of the worksheet) with your assignment submission. For more details see the [assignments page](http://vision.stanford.edu/teaching/cs231n/assignments.html) on the course website.*\n",
    "\n",
    "This exercise is analogous to the SVM exercise. You will:\n",
    "\n",
    "- implement a fully-vectorized **loss function** for the Softmax classifier\n",
    "- implement the fully-vectorized expression for its **analytic gradient**\n",
    "- **check your implementation** with numerical gradient\n",
    "- use a validation set to **tune the learning rate and regularization** strength\n",
    "- **optimize** the loss function with **SGD**\n",
    "- **visualize** the final learned weights\n",
    "\n",
    "精确地说，SVM分类器使用的是折叶损失（hinge loss），有时候又被称为最大边界损失（max-margin loss）。Softmax分类器使用的是交叉熵损失（corss-entropy loss）。\n",
    "虽然分类器不同，但分析方法和过程都是相同的。1. 筛选数据集 2. 计算损失及梯度（矢量化及正则化） 3. 使用交叉验证选择超参数，包括正则化强度，学习速率等。"
   ]
  },
  {
   "cell_type": "code",
   "execution_count": 7,
   "metadata": {},
   "outputs": [
    {
     "name": "stdout",
     "output_type": "stream",
     "text": [
      "The autoreload extension is already loaded. To reload it, use:\n",
      "  %reload_ext autoreload\n"
     ]
    }
   ],
   "source": [
    "import random\n",
    "import numpy as np\n",
    "from cs231n.data_utils import load_CIFAR10\n",
    "import matplotlib.pyplot as plt\n",
    "%matplotlib inline\n",
    "plt.rcParams['figure.figsize'] = (10.0, 8.0) # set default size of plots\n",
    "plt.rcParams['image.interpolation'] = 'nearest'\n",
    "plt.rcParams['image.cmap'] = 'gray'\n",
    "\n",
    "# for auto-reloading extenrnal modules\n",
    "# see http://stackoverflow.com/questions/1907993/autoreload-of-modules-in-ipython\n",
    "%load_ext autoreload\n",
    "%autoreload 2"
   ]
  },
  {
   "cell_type": "code",
   "execution_count": 8,
   "metadata": {},
   "outputs": [
    {
     "name": "stdout",
     "output_type": "stream",
     "text": [
      "Train data shape:  (49000, 3073)\n",
      "Train labels shape:  (49000,)\n",
      "Validation data shape:  (1000, 3073)\n",
      "Validation labels shape:  (1000,)\n",
      "Test data shape:  (1000, 3073)\n",
      "Test labels shape:  (1000,)\n",
      "dev data shape:  (500, 3073)\n",
      "dev labels shape:  (500,)\n"
     ]
    }
   ],
   "source": [
    "def get_CIFAR10_data(num_training=49000, num_validation=1000, num_test=1000, num_dev=500):\n",
    "  \"\"\"\n",
    "  Load the CIFAR-10 dataset from disk and perform preprocessing to prepare\n",
    "  it for the linear classifier. These are the same steps as we used for the\n",
    "  SVM, but condensed to a single function.  \n",
    "  \"\"\"\n",
    "  # Load the raw CIFAR-10 data\n",
    "  cifar10_dir = 'cs231n/datasets/cifar-10-batches-py'\n",
    "  X_train, y_train, X_test, y_test = load_CIFAR10(cifar10_dir)\n",
    "  \n",
    "  # subsample the data\n",
    "  mask = range(num_training, num_training + num_validation)\n",
    "  X_val = X_train[mask]\n",
    "  y_val = y_train[mask]\n",
    "  mask = range(num_training)\n",
    "  X_train = X_train[mask]\n",
    "  y_train = y_train[mask]\n",
    "  mask = range(num_test)\n",
    "  X_test = X_test[mask]\n",
    "  y_test = y_test[mask]\n",
    "  mask = np.random.choice(num_training, num_dev, replace=False)\n",
    "  X_dev = X_train[mask]\n",
    "  y_dev = y_train[mask]\n",
    "  \n",
    "  # Preprocessing: reshape the image data into rows\n",
    "  X_train = np.reshape(X_train, (X_train.shape[0], -1))\n",
    "  X_val = np.reshape(X_val, (X_val.shape[0], -1))\n",
    "  X_test = np.reshape(X_test, (X_test.shape[0], -1))\n",
    "  X_dev = np.reshape(X_dev, (X_dev.shape[0], -1))\n",
    "  \n",
    "  # Normalize the data: subtract the mean image\n",
    "  mean_image = np.mean(X_train, axis = 0)\n",
    "  X_train -= mean_image\n",
    "  X_val -= mean_image\n",
    "  X_test -= mean_image\n",
    "  X_dev -= mean_image\n",
    "  \n",
    "  # add bias dimension and transform into columns\n",
    "  X_train = np.hstack([X_train, np.ones((X_train.shape[0], 1))])\n",
    "  X_val = np.hstack([X_val, np.ones((X_val.shape[0], 1))])\n",
    "  X_test = np.hstack([X_test, np.ones((X_test.shape[0], 1))])\n",
    "  X_dev = np.hstack([X_dev, np.ones((X_dev.shape[0], 1))])\n",
    "  \n",
    "  return X_train, y_train, X_val, y_val, X_test, y_test, X_dev, y_dev\n",
    "\n",
    "\n",
    "# Invoke the above function to get our data.\n",
    "X_train, y_train, X_val, y_val, X_test, y_test, X_dev, y_dev = get_CIFAR10_data()\n",
    "print ('Train data shape: ', X_train.shape)\n",
    "print ('Train labels shape: ', y_train.shape)\n",
    "print ('Validation data shape: ', X_val.shape)\n",
    "print ('Validation labels shape: ', y_val.shape)\n",
    "print ('Test data shape: ', X_test.shape)\n",
    "print ('Test labels shape: ', y_test.shape)\n",
    "print ('dev data shape: ', X_dev.shape)\n",
    "print ('dev labels shape: ', y_dev.shape)"
   ]
  },
  {
   "cell_type": "markdown",
   "metadata": {},
   "source": [
    "## Softmax Classifier\n",
    "\n",
    "Your code for this section will all be written inside **cs231n/classifiers/softmax.py**. \n"
   ]
  },
  {
   "cell_type": "code",
   "execution_count": 3,
   "metadata": {},
   "outputs": [
    {
     "name": "stdout",
     "output_type": "stream",
     "text": [
      "loss: 2.341044\n",
      "sanity check: 2.302585\n"
     ]
    }
   ],
   "source": [
    "# First implement the naive softmax loss function with nested loops.\n",
    "# Open the file cs231n/classifiers/softmax.py and implement the\n",
    "# softmax_loss_naive function.\n",
    "\n",
    "from cs231n.classifiers.softmax import softmax_loss_naive\n",
    "import time\n",
    "\n",
    "# Generate a random softmax weight matrix and use it to compute the loss.\n",
    "W = np.random.randn(3073, 10) * 0.0001\n",
    "loss, grad = softmax_loss_naive(W, X_dev, y_dev, 0.0)\n",
    "\n",
    "# As a rough sanity check, our loss should be something close to -log(0.1).\n",
    "print ('loss: %f' % loss)\n",
    "print ('sanity check: %f' % (-np.log(0.1)))"
   ]
  },
  {
   "cell_type": "markdown",
   "metadata": {},
   "source": [
    "## Inline Question 1:\n",
    "Why do we expect our loss to be close to -log(0.1)? Explain briefly.**\n",
    "\n",
    "**Your answer:** \n",
    "参考 https://github.com/lightaime/cs231n/。\n",
    "Since the weight matrix W is uniform randomly selected, the predicted probability of each class is uniform distribution and identically equals 1/10, where 10 is the number of classes. So the cross entroy for each example is -log(0.1), which should equal to the loss."
   ]
  },
  {
   "cell_type": "code",
   "execution_count": 9,
   "metadata": {},
   "outputs": [
    {
     "name": "stdout",
     "output_type": "stream",
     "text": [
      "ix: (1095, 4)\n",
      "numerical: 0.377094 analytic: 0.377094, relative error: 2.536722e-09\n",
      "ix: (3001, 4)\n",
      "numerical: -2.427765 analytic: -2.427765, relative error: 1.714110e-10\n",
      "ix: (2261, 1)\n",
      "numerical: 1.620561 analytic: 1.620561, relative error: 3.226207e-08\n",
      "ix: (45, 8)\n",
      "numerical: -2.312561 analytic: -2.312561, relative error: 9.429999e-09\n",
      "ix: (1579, 7)\n",
      "numerical: 3.467798 analytic: 3.467798, relative error: 1.312012e-08\n",
      "ix: (1059, 7)\n",
      "numerical: 1.709416 analytic: 1.709415, relative error: 4.162796e-08\n",
      "ix: (259, 1)\n",
      "numerical: -3.364576 analytic: -3.364576, relative error: 1.828979e-08\n",
      "ix: (279, 4)\n",
      "numerical: 0.620200 analytic: 0.620200, relative error: 3.010432e-08\n",
      "ix: (691, 3)\n",
      "numerical: 3.678801 analytic: 3.678801, relative error: 2.475784e-08\n",
      "ix: (1088, 6)\n",
      "numerical: 4.409023 analytic: 4.409023, relative error: 1.417670e-08\n",
      "ix: (2123, 7)\n",
      "numerical: 0.453120 analytic: 0.453119, relative error: 2.502095e-07\n",
      "ix: (2119, 6)\n",
      "numerical: 1.054630 analytic: 1.054630, relative error: 2.925693e-08\n",
      "ix: (902, 7)\n",
      "numerical: 3.036577 analytic: 3.036577, relative error: 2.590755e-08\n",
      "ix: (2326, 6)\n",
      "numerical: 0.905127 analytic: 0.905127, relative error: 3.467595e-08\n",
      "ix: (1301, 4)\n",
      "numerical: 1.779270 analytic: 1.779270, relative error: 2.643498e-08\n",
      "ix: (1216, 0)\n",
      "numerical: -2.977267 analytic: -2.977267, relative error: 1.007175e-08\n",
      "ix: (1085, 9)\n",
      "numerical: -2.622114 analytic: -2.622114, relative error: 4.377983e-09\n",
      "ix: (329, 3)\n",
      "numerical: 3.471970 analytic: 3.471970, relative error: 3.639815e-08\n",
      "ix: (1402, 5)\n",
      "numerical: -1.115983 analytic: -1.115983, relative error: 3.158996e-08\n",
      "ix: (1658, 3)\n",
      "numerical: 0.485683 analytic: 0.485683, relative error: 1.951240e-07\n"
     ]
    }
   ],
   "source": [
    "# Complete the implementation of softmax_loss_naive and implement a (naive)\n",
    "# version of the gradient that uses nested loops.\n",
    "loss, grad = softmax_loss_naive(W, X_dev, y_dev, 0.0)\n",
    "\n",
    "# As we did for the SVM, use numeric gradient checking as a debugging tool.\n",
    "# The numeric gradient should be close to the analytic gradient.\n",
    "from cs231n.gradient_check import grad_check_sparse\n",
    "f = lambda w: softmax_loss_naive(w, X_dev, y_dev, 0.0)[0]\n",
    "grad_numerical = grad_check_sparse(f, W, grad, 10)\n",
    "\n",
    "# similar to SVM case, do another gradient check with regularization\n",
    "loss, grad = softmax_loss_naive(W, X_dev, y_dev, 1e2)\n",
    "f = lambda w: softmax_loss_naive(w, X_dev, y_dev, 1e2)[0]\n",
    "grad_numerical = grad_check_sparse(f, W, grad, 10)"
   ]
  },
  {
   "cell_type": "code",
   "execution_count": 10,
   "metadata": {},
   "outputs": [
    {
     "name": "stdout",
     "output_type": "stream",
     "text": [
      "naive loss: 2.374201e+00 computed in 0.108289s\n",
      "vectorized loss: 2.374201e+00 computed in 0.006017s\n",
      "Loss difference: 0.000000\n",
      "Gradient difference: 0.000000\n"
     ]
    }
   ],
   "source": [
    "# Now that we have a naive implementation of the softmax loss function and its gradient,\n",
    "# implement a vectorized version in softmax_loss_vectorized.\n",
    "# The two versions should compute the same results, but the vectorized version should be\n",
    "# much faster.\n",
    "tic = time.time()\n",
    "loss_naive, grad_naive = softmax_loss_naive(W, X_dev, y_dev, 0.00001)\n",
    "toc = time.time()\n",
    "print ('naive loss: %e computed in %fs' % (loss_naive, toc - tic))\n",
    "\n",
    "from cs231n.classifiers.softmax import softmax_loss_vectorized\n",
    "tic = time.time()\n",
    "loss_vectorized, grad_vectorized = softmax_loss_vectorized(W, X_dev, y_dev, 0.00001)\n",
    "toc = time.time()\n",
    "print ('vectorized loss: %e computed in %fs' % (loss_vectorized, toc - tic))\n",
    "\n",
    "# As we did for the SVM, we use the Frobenius norm to compare the two versions\n",
    "# of the gradient.\n",
    "grad_difference = np.linalg.norm(grad_naive - grad_vectorized, ord='fro')\n",
    "print ('Loss difference: %f' % np.abs(loss_naive - loss_vectorized))\n",
    "print ('Gradient difference: %f' % grad_difference)"
   ]
  },
  {
   "cell_type": "code",
   "execution_count": 11,
   "metadata": {},
   "outputs": [
    {
     "name": "stdout",
     "output_type": "stream",
     "text": [
      "[7000.0, 8000.0, 9000.0, 10000.0, 11000.0, 12000.0, 13000.0, 47000.0, 48000.0, 49000.0, 50000.0, 51000.0, 52000.0, 53000.0]\n"
     ]
    },
    {
     "name": "stderr",
     "output_type": "stream",
     "text": [
      "D:\\MyGit\\lab\\CS231n-2016-Winter\\assignment1\\cs231n\\classifiers\\softmax.py:81: RuntimeWarning: divide by zero encountered in log\n",
      "  loss = -np.sum(np.log(softmax_output[range(num_train), list(y)]))\n",
      "D:\\MyGit\\lab\\CS231n-2016-Winter\\assignment1\\cs231n\\classifiers\\softmax.py:83: RuntimeWarning: overflow encountered in multiply\n",
      "  loss += 0.5 * reg * np.sum(W * W)\n",
      "D:\\MyGit\\lab\\CS231n-2016-Winter\\assignment1\\cs231n\\classifiers\\linear_classifier.py:68: RuntimeWarning: overflow encountered in multiply\n",
      "  self.W += -learning_rate * grad\n",
      "D:\\MyGit\\lab\\CS231n-2016-Winter\\assignment1\\cs231n\\classifiers\\softmax.py:88: RuntimeWarning: overflow encountered in multiply\n",
      "  dW = dW / num_train + reg * W\n",
      "D:\\MyGit\\lab\\CS231n-2016-Winter\\assignment1\\cs231n\\classifiers\\softmax.py:79: RuntimeWarning: overflow encountered in subtract\n",
      "  scores -= np.max(scores, axis=1).reshape(-1,1)\n",
      "D:\\MyGit\\lab\\CS231n-2016-Winter\\assignment1\\cs231n\\classifiers\\softmax.py:79: RuntimeWarning: invalid value encountered in subtract\n",
      "  scores -= np.max(scores, axis=1).reshape(-1,1)\n"
     ]
    },
    {
     "name": "stdout",
     "output_type": "stream",
     "text": [
      "lr 1.000000e-07 reg 7.000000e+03 train accuracy: 0.309367 val accuracy: 0.312000\n",
      "lr 1.000000e-07 reg 8.000000e+03 train accuracy: 0.313633 val accuracy: 0.310000\n",
      "lr 1.000000e-07 reg 9.000000e+03 train accuracy: 0.326490 val accuracy: 0.336000\n",
      "lr 1.000000e-07 reg 1.000000e+04 train accuracy: 0.329224 val accuracy: 0.316000\n",
      "lr 1.000000e-07 reg 1.100000e+04 train accuracy: 0.338224 val accuracy: 0.341000\n",
      "lr 1.000000e-07 reg 1.200000e+04 train accuracy: 0.341837 val accuracy: 0.347000\n",
      "lr 1.000000e-07 reg 1.300000e+04 train accuracy: 0.341469 val accuracy: 0.350000\n",
      "lr 1.000000e-07 reg 4.700000e+04 train accuracy: 0.323041 val accuracy: 0.337000\n",
      "lr 1.000000e-07 reg 4.800000e+04 train accuracy: 0.326204 val accuracy: 0.337000\n",
      "lr 1.000000e-07 reg 4.900000e+04 train accuracy: 0.329571 val accuracy: 0.347000\n",
      "lr 1.000000e-07 reg 5.000000e+04 train accuracy: 0.333980 val accuracy: 0.353000\n",
      "lr 1.000000e-07 reg 5.100000e+04 train accuracy: 0.326041 val accuracy: 0.340000\n",
      "lr 1.000000e-07 reg 5.200000e+04 train accuracy: 0.327837 val accuracy: 0.343000\n",
      "lr 1.000000e-07 reg 5.300000e+04 train accuracy: 0.332327 val accuracy: 0.348000\n",
      "lr 5.000000e-07 reg 7.000000e+03 train accuracy: 0.381918 val accuracy: 0.398000\n",
      "lr 5.000000e-07 reg 8.000000e+03 train accuracy: 0.377204 val accuracy: 0.381000\n",
      "lr 5.000000e-07 reg 9.000000e+03 train accuracy: 0.375347 val accuracy: 0.387000\n",
      "lr 5.000000e-07 reg 1.000000e+04 train accuracy: 0.369755 val accuracy: 0.380000\n",
      "lr 5.000000e-07 reg 1.100000e+04 train accuracy: 0.367041 val accuracy: 0.375000\n",
      "lr 5.000000e-07 reg 1.200000e+04 train accuracy: 0.364714 val accuracy: 0.372000\n",
      "lr 5.000000e-07 reg 1.300000e+04 train accuracy: 0.367020 val accuracy: 0.376000\n",
      "lr 5.000000e-07 reg 4.700000e+04 train accuracy: 0.328122 val accuracy: 0.351000\n",
      "lr 5.000000e-07 reg 4.800000e+04 train accuracy: 0.321408 val accuracy: 0.335000\n",
      "lr 5.000000e-07 reg 4.900000e+04 train accuracy: 0.323347 val accuracy: 0.340000\n",
      "lr 5.000000e-07 reg 5.000000e+04 train accuracy: 0.330694 val accuracy: 0.335000\n",
      "lr 5.000000e-07 reg 5.100000e+04 train accuracy: 0.315286 val accuracy: 0.327000\n",
      "lr 5.000000e-07 reg 5.200000e+04 train accuracy: 0.325878 val accuracy: 0.324000\n",
      "lr 5.000000e-07 reg 5.300000e+04 train accuracy: 0.325082 val accuracy: 0.333000\n",
      "lr 2.000000e+07 reg 7.000000e+03 train accuracy: 0.100265 val accuracy: 0.087000\n",
      "lr 2.000000e+07 reg 8.000000e+03 train accuracy: 0.100265 val accuracy: 0.087000\n",
      "lr 2.000000e+07 reg 9.000000e+03 train accuracy: 0.100265 val accuracy: 0.087000\n",
      "lr 2.000000e+07 reg 1.000000e+04 train accuracy: 0.100265 val accuracy: 0.087000\n",
      "lr 2.000000e+07 reg 1.100000e+04 train accuracy: 0.100265 val accuracy: 0.087000\n",
      "lr 2.000000e+07 reg 1.200000e+04 train accuracy: 0.100265 val accuracy: 0.087000\n",
      "lr 2.000000e+07 reg 1.300000e+04 train accuracy: 0.100265 val accuracy: 0.087000\n",
      "lr 2.000000e+07 reg 4.700000e+04 train accuracy: 0.100265 val accuracy: 0.087000\n",
      "lr 2.000000e+07 reg 4.800000e+04 train accuracy: 0.100265 val accuracy: 0.087000\n",
      "lr 2.000000e+07 reg 4.900000e+04 train accuracy: 0.100265 val accuracy: 0.087000\n",
      "lr 2.000000e+07 reg 5.000000e+04 train accuracy: 0.100265 val accuracy: 0.087000\n",
      "lr 2.000000e+07 reg 5.100000e+04 train accuracy: 0.100265 val accuracy: 0.087000\n",
      "lr 2.000000e+07 reg 5.200000e+04 train accuracy: 0.100265 val accuracy: 0.087000\n",
      "lr 2.000000e+07 reg 5.300000e+04 train accuracy: 0.100265 val accuracy: 0.087000\n",
      "best validation accuracy achieved during cross-validation: 0.398000\n"
     ]
    }
   ],
   "source": [
    "# Use the validation set to tune hyperparameters (regularization strength and\n",
    "# learning rate). You should experiment with different ranges for the learning\n",
    "# rates and regularization strengths; if you are careful you should be able to\n",
    "# get a classification accuracy of over 0.35 on the validation set.\n",
    "from cs231n.classifiers import Softmax\n",
    "results = {}\n",
    "best_val = -1\n",
    "best_softmax = None\n",
    "learning_rates = [1e-7, 2e07, 5e-7]\n",
    "# regularization_strengths = [5e4, 1e8]\n",
    "regularization_strengths =[(1+0.1*i)*1e4 for i in range(-3,4)] + [(5+0.1*i)*1e4 for i in range(-3,4)]\n",
    "print(regularization_strengths)\n",
    "\n",
    "################################################################################\n",
    "# TODO:                                                                        #\n",
    "# Use the validation set to set the learning rate and regularization strength. #\n",
    "# This should be identical to the validation that you did for the SVM; save    #\n",
    "# the best trained softmax classifer in best_softmax.                          #\n",
    "################################################################################\n",
    "# 交叉验证的代码与SVM是一致的。\n",
    "for lr in learning_rates:\n",
    "    for rs in regularization_strengths:\n",
    "        softmax = Softmax()\n",
    "        loss_hist = softmax.train(X_train, y_train, learning_rate=lr, reg=rs, num_iters=1500)\n",
    "        y_train_pred = softmax.predict(X_train)\n",
    "        train_accuracy = np.mean(y_train == y_train_pred)\n",
    "        y_val_pred = softmax.predict(X_val)\n",
    "        val_accuracy = np.mean(y_val == y_val_pred)\n",
    "        if val_accuracy > best_val:\n",
    "            best_val = val_accuracy\n",
    "            best_softmax = softmax\n",
    "        results[(lr, rs)] = train_accuracy, val_accuracy\n",
    "################################################################################\n",
    "#                              END OF YOUR CODE                                #\n",
    "################################################################################\n",
    "    \n",
    "# Print out results.\n",
    "for lr, reg in sorted(results):\n",
    "    train_accuracy, val_accuracy = results[(lr, reg)]\n",
    "    print ('lr %e reg %e train accuracy: %f val accuracy: %f' % (\n",
    "                lr, reg, train_accuracy, val_accuracy))\n",
    "    \n",
    "print ('best validation accuracy achieved during cross-validation: %f' % best_val)"
   ]
  },
  {
   "cell_type": "code",
   "execution_count": 13,
   "metadata": {},
   "outputs": [
    {
     "name": "stdout",
     "output_type": "stream",
     "text": [
      "softmax on raw pixels final test set accuracy: 0.384000\n"
     ]
    }
   ],
   "source": [
    "# evaluate on test set\n",
    "# Evaluate the best softmax on test set\n",
    "y_test_pred = best_softmax.predict(X_test)\n",
    "test_accuracy = np.mean(y_test == y_test_pred)\n",
    "print ('softmax on raw pixels final test set accuracy: %f' % (test_accuracy, ))"
   ]
  },
  {
   "cell_type": "code",
   "execution_count": 15,
   "metadata": {},
   "outputs": [
    {
     "data": {
      "image/png": "[encoded data removed]",
      "text/plain": [
       "<matplotlib.figure.Figure at 0x234c6572748>"
      ]
     },
     "metadata": {},
     "output_type": "display_data"
    }
   ],
   "source": [
    "# Visualize the learned weights for each class\n",
    "w = best_softmax.W[:-1,:] # strip out the bias\n",
    "w = w.reshape(32, 32, 3, 10)\n",
    "\n",
    "w_min, w_max = np.min(w), np.max(w)\n",
    "\n",
    "classes = ['plane', 'car', 'bird', 'cat', 'deer', 'dog', 'frog', 'horse', 'ship', 'truck']\n",
    "for i in range(10):\n",
    "  plt.subplot(2, 5, i + 1)\n",
    "  \n",
    "  # Rescale the weights to be between 0 and 255\n",
    "  wimg = 255.0 * (w[:, :, :, i].squeeze() - w_min) / (w_max - w_min)\n",
    "  plt.imshow(wimg.astype('uint8'))\n",
    "  plt.axis('off')\n",
    "  plt.title(classes[i])"
   ]
  }
 ],
 "metadata": {
  "kernelspec": {
   "display_name": "Python 3",
   "language": "python",
   "name": "python3"
  },
  "language_info": {
   "codemirror_mode": {
    "name": "ipython",
    "version": 3
   },
   "file_extension": ".py",
   "mimetype": "text/x-python",
   "name": "python",
   "nbconvert_exporter": "python",
   "pygments_lexer": "ipython3",
   "version": "3.6.1"
  }
 },
 "nbformat": 4,
 "nbformat_minor": 1
}
